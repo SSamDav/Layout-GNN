{
 "cells": [
  {
   "cell_type": "code",
   "execution_count": 1,
   "metadata": {},
   "outputs": [],
   "source": [
    "from pathlib import Path\n",
    "\n",
    "from torch.utils.data import DataLoader\n",
    "from torchvision import transforms\n",
    "\n",
    "from layout_gnn.dataset.dataset import RICOSemanticAnnotationsDataset\n",
    "from layout_gnn.dataset import transformations\n",
    "from layout_gnn.model.model import LayoutGraphModel\n",
    "from layout_gnn.utils import pyg_data_collate\n",
    "\n",
    "\n",
    "DATA_PATH = Path.cwd() / '../data'"
   ]
  },
  {
   "cell_type": "code",
   "execution_count": 2,
   "metadata": {},
   "outputs": [],
   "source": [
    "dataset = RICOSemanticAnnotationsDataset(root_dir=DATA_PATH)\n",
    "label_mappings = {k: i for i, k in enumerate(dataset.label_color_map)}\n",
    "dataset.transform = transform=transforms.Compose([\n",
    "    transformations.process_data,\n",
    "    transformations.normalize_bboxes,\n",
    "    transformations.add_networkx,\n",
    "    transformations.ConvertLabelsToIndexes(\n",
    "        node_label_mappings=label_mappings,\n",
    "        # edge_label_mappings={\"parent_of\": 0, \"child_of\": 1},\n",
    "    ),\n",
    "    transformations.convert_graph_to_pyg,\n",
    "])\n",
    "\n",
    "data_loader = DataLoader(dataset=dataset, batch_size=8, collate_fn=pyg_data_collate)\n",
    "model = LayoutGraphModel(num_labels=len(label_mappings) + 1, label_embedding_dim=32, bbox_embedding_layer_dims=32, gnn_hidden_channels=128, gnn_num_layers=3)"
   ]
  },
  {
   "cell_type": "code",
   "execution_count": 3,
   "metadata": {},
   "outputs": [
    {
     "data": {
      "text/plain": [
       "(DataBatch(edge_index=[2, 360], bbox=[188, 4], label=[188], edge_label=[8], num_nodes=188, batch=[188], ptr=[9]),\n",
       " tensor([[-1.6283e-01,  1.0870e-01, -2.3987e-01,  ...,  1.0042e-01,\n",
       "           1.8368e-01,  5.5398e-01],\n",
       "         [-1.6283e-01,  1.0870e-01, -2.3987e-01,  ...,  1.0042e-01,\n",
       "           1.8368e-01,  5.5398e-01],\n",
       "         [-7.0449e-02,  8.2786e-02, -1.3573e-01,  ...,  1.8040e-01,\n",
       "           1.0888e-01,  6.4485e-01],\n",
       "         ...,\n",
       "         [ 3.5886e-02,  6.5445e-02, -2.8341e-02,  ...,  2.3916e-01,\n",
       "           2.0711e-01,  2.4402e-01],\n",
       "         [-3.1221e-02,  3.1263e-02,  1.1671e-02,  ...,  2.0170e-01,\n",
       "           2.0555e-01,  2.7374e-01],\n",
       "         [ 5.3307e-04,  5.5070e-02, -2.9330e-02,  ...,  2.8223e-01,\n",
       "           2.6488e-01,  2.9109e-01]], grad_fn=<AddBackward0>))"
      ]
     },
     "execution_count": 3,
     "metadata": {},
     "output_type": "execute_result"
    }
   ],
   "source": [
    "for batch in data_loader:\n",
    "    x = model(batch)\n",
    "    break\n",
    "batch, x"
   ]
  }
 ],
 "metadata": {
  "interpreter": {
   "hash": "894a72514130bffa9b1099e4d189ae64885a57d609b585fd502a21211d321c42"
  },
  "kernelspec": {
   "display_name": "Python 3.9.5 ('.venv': poetry)",
   "language": "python",
   "name": "python3"
  },
  "language_info": {
   "codemirror_mode": {
    "name": "ipython",
    "version": 3
   },
   "file_extension": ".py",
   "mimetype": "text/x-python",
   "name": "python",
   "nbconvert_exporter": "python",
   "pygments_lexer": "ipython3",
   "version": "3.9.5"
  },
  "orig_nbformat": 4
 },
 "nbformat": 4,
 "nbformat_minor": 2
}
