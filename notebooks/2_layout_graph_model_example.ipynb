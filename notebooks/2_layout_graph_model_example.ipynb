{
 "cells": [
  {
   "cell_type": "code",
   "execution_count": 1,
   "metadata": {},
   "outputs": [],
   "source": [
    "from pathlib import Path\n",
    "\n",
    "from torch.utils.data import DataLoader\n",
    "from torchvision import transforms\n",
    "\n",
    "from layout_gnn.dataset.dataset import RICOSemanticAnnotationsDataset\n",
    "from layout_gnn.dataset import transformations\n",
    "from layout_gnn.model.model import Model\n",
    "from layout_gnn.utils import pyg_data_collate\n",
    "\n",
    "\n",
    "DATA_PATH = Path.cwd() / '../data'"
   ]
  },
  {
   "cell_type": "code",
   "execution_count": 2,
   "metadata": {},
   "outputs": [],
   "source": [
    "dataset = RICOSemanticAnnotationsDataset(root_dir=DATA_PATH)\n",
    "label_mappings = {k: i for i, k in enumerate(dataset.label_color_map)}\n",
    "dataset.transform = transform=transforms.Compose([\n",
    "    transformations.process_data,\n",
    "    transformations.normalize_bboxes,\n",
    "    transformations.add_networkx,\n",
    "    transformations.ConvertLabelsToIndexes(\n",
    "        node_label_mappings=label_mappings,\n",
    "        # edge_label_mappings={\"parent_of\": 0, \"child_of\": 1},\n",
    "    ),\n",
    "    transformations.convert_graph_to_pyg,\n",
    "])\n",
    "\n",
    "data_loader = DataLoader(dataset=dataset, batch_size=8, collate_fn=pyg_data_collate)\n",
    "model = Model(num_labels=len(label_mappings), label_embedding_dim=32, bbox_embedding_layer_dims=32, gnn_hidden_channels=128, gnn_num_layers=3)"
   ]
  },
  {
   "cell_type": "code",
   "execution_count": 3,
   "metadata": {},
   "outputs": [
    {
     "data": {
      "text/plain": [
       "(DataBatch(edge_index=[2, 360], bbox=[188, 4], label=[188], edge_label=[360], num_nodes=188, batch=[188], ptr=[9]),\n",
       " tensor([[ 0.1158,  0.2690,  0.4183,  ...,  0.1469,  0.1217, -0.0774],\n",
       "         [ 0.1158,  0.2690,  0.4183,  ...,  0.1469,  0.1217, -0.0774],\n",
       "         [ 0.1188,  0.2146,  0.3822,  ...,  0.0989,  0.1267, -0.1092],\n",
       "         ...,\n",
       "         [-0.0128,  0.0412,  0.3399,  ..., -0.0985,  0.0875, -0.2561],\n",
       "         [ 0.0624,  0.0467,  0.2904,  ..., -0.1278,  0.1082, -0.2458],\n",
       "         [ 0.0206,  0.0686,  0.2431,  ..., -0.1598,  0.1279, -0.2055]],\n",
       "        grad_fn=<AddBackward0>))"
      ]
     },
     "execution_count": 3,
     "metadata": {},
     "output_type": "execute_result"
    }
   ],
   "source": [
    "for batch in data_loader:\n",
    "    x = model(batch)\n",
    "    break\n",
    "batch, x"
   ]
  }
 ],
 "metadata": {
  "interpreter": {
   "hash": "894a72514130bffa9b1099e4d189ae64885a57d609b585fd502a21211d321c42"
  },
  "kernelspec": {
   "display_name": "Python 3.9.5 ('.venv': poetry)",
   "language": "python",
   "name": "python3"
  },
  "language_info": {
   "codemirror_mode": {
    "name": "ipython",
    "version": 3
   },
   "file_extension": ".py",
   "mimetype": "text/x-python",
   "name": "python",
   "nbconvert_exporter": "python",
   "pygments_lexer": "ipython3",
   "version": "3.9.5"
  },
  "orig_nbformat": 4
 },
 "nbformat": 4,
 "nbformat_minor": 2
}
