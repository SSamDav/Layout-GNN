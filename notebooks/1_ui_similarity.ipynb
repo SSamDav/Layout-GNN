{
 "cells": [
  {
   "cell_type": "code",
   "execution_count": null,
   "metadata": {},
   "outputs": [],
   "source": [
    "import json\n",
    "import random\n",
    "import zipfile\n",
    "\n",
    "\n",
    "from pathlib import Path\n",
    "from pylab import cm\n",
    "from torchvision import transforms\n",
    "import numpy as np\n",
    "import matplotlib.pyplot as plt\n",
    "from torch.utils.data import DataLoader\n",
    "from google.cloud import storage\n",
    "import pandas as pd\n",
    "\n",
    "\n",
    "from layout_gnn.dataset.dataset import RICOSemanticAnnotationsDataset\n",
    "from layout_gnn.dataset.transformations import *\n",
    "from layout_gnn.utils import *\n",
    "from layout_gnn.similarity_metrics import compute_edit_distance, compute_iou\n",
    "from tqdm.autonotebook import tqdm\n",
    "from joblib import Parallel, delayed\n",
    "\n",
    "ROOT_PATH = Path.cwd()\n",
    "DATA_PATH = ROOT_PATH / '../data'\n",
    "DATA_PATH.mkdir(parents=True, exist_ok=True)\n",
    "BUCKET_ID = 'crowdstf-rico-uiuc-4540'"
   ]
  },
  {
   "cell_type": "code",
   "execution_count": null,
   "metadata": {},
   "outputs": [],
   "source": [
    "rico_dataset = RICOSemanticAnnotationsDataset(\n",
    "    transform=transforms.Compose([\n",
    "        process_data,\n",
    "        normalize_bboxes,\n",
    "        add_networkx,\n",
    "    ]),\n",
    "    only_data=False\n",
    ")"
   ]
  },
  {
   "cell_type": "code",
   "execution_count": null,
   "metadata": {},
   "outputs": [],
   "source": [
    "dataloader = DataLoader(rico_dataset, batch_size=1, num_workers=16, collate_fn=default_data_collate)\n",
    "dataset = []\n",
    "\n",
    "for data in tqdm(dataloader):\n",
    "    dataset.extend(data)\n",
    "    \n",
    "dataset = sorted(dataset, key=lambda x: x['filename'])"
   ]
  },
  {
   "cell_type": "code",
   "execution_count": null,
   "metadata": {},
   "outputs": [],
   "source": [
    "datapoint_1, datapoint_2 = rico_dataset[200], rico_dataset[1000]"
   ]
  },
  {
   "cell_type": "code",
   "execution_count": null,
   "metadata": {},
   "outputs": [],
   "source": [
    "fig = plot_datapoint(datapoint_1, rico_dataset.label_color_map)"
   ]
  },
  {
   "cell_type": "code",
   "execution_count": null,
   "metadata": {},
   "outputs": [],
   "source": [
    "fig = plot_datapoint(datapoint_2, rico_dataset.label_color_map)"
   ]
  },
  {
   "cell_type": "markdown",
   "metadata": {},
   "source": [
    "## Compute ED between both trees"
   ]
  },
  {
   "cell_type": "code",
   "execution_count": null,
   "metadata": {},
   "outputs": [],
   "source": [
    "compute_edit_distance(datapoint_1['graph'].to_undirected(), datapoint_2['graph'].to_undirected())"
   ]
  },
  {
   "cell_type": "code",
   "execution_count": null,
   "metadata": {},
   "outputs": [],
   "source": [
    "node_labels = sorted(list(set(node['label'] for _, node in datapoint_1['graph'].nodes(data=True)) | set(node['label'] for _, node in datapoint_2['graph'].nodes(data=True))))\n",
    "node_labels = {label: idx for idx, label in enumerate(node_labels)}\n",
    "image_shape = (256, 256)"
   ]
  },
  {
   "cell_type": "code",
   "execution_count": null,
   "metadata": {},
   "outputs": [],
   "source": [
    "compute_iou(datapoint_1, datapoint_2)"
   ]
  },
  {
   "cell_type": "code",
   "execution_count": null,
   "metadata": {},
   "outputs": [],
   "source": [
    "def compute_pairs(datapoint, dataset, pos_thresh=0.9, neg_thresh=0.1):\n",
    "    sample = {\n",
    "            'graph': datapoint['filename'],\n",
    "    }\n",
    "    for datapoint2 in dataset:\n",
    "        iou = compute_iou(datapoint, datapoint2)\n",
    "        ted = compute_edit_distance(datapoint['graph'].to_undirected(), datapoint2['graph'].to_undirected())\n",
    "        normalized_ted = 1 - ted['normalized_edit_distance']\n",
    "        \n",
    "        if iou['iou'] >= pos_thresh:\n",
    "            sample['positive_iou'] = {\n",
    "                'graph': datapoint2['filename'],\n",
    "                **iou\n",
    "            }\n",
    "        if iou['iou'] <= neg_thresh:\n",
    "            sample['negative_iou'] = {\n",
    "                'graph': datapoint2['filename'],\n",
    "                **iou\n",
    "            }\n",
    "            \n",
    "        if normalized_ted >= pos_thresh:\n",
    "            sample['positive_ged'] = {\n",
    "                'graph': datapoint2['filename'],\n",
    "                **ted\n",
    "            }\n",
    "        if normalized_ted <= neg_thresh:\n",
    "            sample['negative_ged'] = {\n",
    "                'graph': datapoint2['filename'],\n",
    "                **ted\n",
    "            }\n",
    "            \n",
    "        if 'positive_iou' in sample and 'negative_iou' in sample and 'positive_ged' in sample and 'negative_ged' in sample:\n",
    "            break\n",
    "        \n",
    "        return sample"
   ]
  },
  {
   "cell_type": "code",
   "execution_count": null,
   "metadata": {},
   "outputs": [],
   "source": [
    "def compute_distances(datapoint1, dataset):\n",
    "    distances = []\n",
    "    for datapoint2 in random.choices(dataset, k=100):\n",
    "        iou = compute_iou(datapoint1, datapoint2)\n",
    "        ted = compute_edit_distance(datapoint1['graph'].to_undirected(), datapoint2['graph'].to_undirected())\n",
    "        distances.append({\n",
    "           **iou,\n",
    "           **ted\n",
    "        })\n",
    "        \n",
    "    return distances"
   ]
  },
  {
   "cell_type": "code",
   "execution_count": null,
   "metadata": {},
   "outputs": [],
   "source": [
    "final_distances = Parallel(n_jobs=16)(delayed(compute_distances)(datapoint1, dataset) for datapoint1 in tqdm(random.choices(dataset, k=100), total=100))"
   ]
  },
  {
   "cell_type": "code",
   "execution_count": null,
   "metadata": {},
   "outputs": [],
   "source": [
    "final_distances = [f_point for f in final_distances for f_point in f]"
   ]
  },
  {
   "cell_type": "code",
   "execution_count": null,
   "metadata": {},
   "outputs": [],
   "source": [
    "pd.DataFrame(final_distances)['iou'].plot.hist()"
   ]
  },
  {
   "cell_type": "code",
   "execution_count": null,
   "metadata": {},
   "outputs": [],
   "source": [
    "pd.DataFrame(final_distances)['iou'].describe(percentiles=[.1, .25, .5, .75, .9])"
   ]
  },
  {
   "cell_type": "code",
   "execution_count": null,
   "metadata": {},
   "outputs": [],
   "source": [
    "pd.DataFrame(final_distances)['normalized_edit_distance'].plot.hist()\n"
   ]
  },
  {
   "cell_type": "code",
   "execution_count": null,
   "metadata": {},
   "outputs": [],
   "source": [
    "pd.DataFrame(final_distances)['normalized_edit_distance'].describe(percentiles=[.1, .25, .5, .75, .9])\n"
   ]
  },
  {
   "cell_type": "markdown",
   "metadata": {},
   "source": [
    "## Neighbour Layouts"
   ]
  },
  {
   "cell_type": "code",
   "execution_count": 5,
   "metadata": {},
   "outputs": [],
   "source": [
    "import json\n",
    "import random\n",
    "import zipfile\n",
    "import numpy as np\n",
    "import gzip\n",
    "\n",
    "from pathlib import Path\n",
    "from google.cloud import storage\n",
    "import matplotlib.pyplot as plt\n",
    "from scipy.spatial.distance import pdist, squareform\n",
    "from tqdm.autonotebook import tqdm\n",
    "from layout_gnn.dataset.dataset import RICOSemanticAnnotationsDataset\n",
    "from layout_gnn.dataset.transformations import *\n",
    "from layout_gnn.similarity_metrics import compute_edit_distance, compute_iou\n",
    "from torchvision import transforms\n",
    "\n",
    "\n",
    "\n",
    "ROOT_PATH = Path.cwd()\n",
    "DATA_PATH = ROOT_PATH / '../data'\n",
    "DATA_PATH.mkdir(parents=True, exist_ok=True)\n",
    "BUCKET_ID = 'crowdstf-rico-uiuc-4540'"
   ]
  },
  {
   "cell_type": "code",
   "execution_count": 6,
   "metadata": {},
   "outputs": [],
   "source": [
    "rico_dataset = RICOSemanticAnnotationsDataset(\n",
    "    transform=transforms.Compose([\n",
    "        process_data,\n",
    "        normalize_bboxes,\n",
    "        add_networkx,\n",
    "    ]),\n",
    "    only_data=False\n",
    ")"
   ]
  },
  {
   "cell_type": "code",
   "execution_count": 7,
   "metadata": {},
   "outputs": [],
   "source": [
    "zip_filename = DATA_PATH / 'ui_layout_vectors.zip'\n",
    "if not zip_filename.exists():\n",
    "    client = storage.Client.create_anonymous_client()\n",
    "    bucket = client.bucket(BUCKET_ID)\n",
    "\n",
    "    blob = bucket.blob('rico_dataset_v0.1/ui_layout_vectors.zip')\n",
    "    blob.download_to_filename(zip_filename)\n",
    "\n",
    "extracted_folder = DATA_PATH / 'ui_layout_vectors'\n",
    "if not extracted_folder.exists():\n",
    "    with zipfile.ZipFile(zip_filename, 'r') as zip_ref:\n",
    "        zip_ref.extractall(DATA_PATH)"
   ]
  },
  {
   "cell_type": "code",
   "execution_count": 9,
   "metadata": {},
   "outputs": [],
   "source": [
    "embeddings = np.load(extracted_folder / 'ui_vectors.npy')\n",
    "files = json.load(open(extracted_folder / 'ui_names.json'))['ui_names']\n",
    "train_split = json.load(open(DATA_PATH / 'train_split.json'))['test_uis']\n",
    "train_files = set(files) & set(train_split)\n",
    "\n",
    "files_ids = [files.index(f.stem + '.png') for f in rico_dataset.files if f.stem + '.png' in train_files]\n",
    "files_names = [f.stem for f in rico_dataset.files if f.stem + '.png' in train_files]\n",
    "embeddings = embeddings[files_ids, :]"
   ]
  },
  {
   "cell_type": "code",
   "execution_count": 10,
   "metadata": {},
   "outputs": [],
   "source": [
    "distances = pdist(embeddings, metric='euclidean')\n",
    "dist_matrix = squareform(distances)"
   ]
  },
  {
   "cell_type": "code",
   "execution_count": 11,
   "metadata": {},
   "outputs": [
    {
     "data": {
      "application/vnd.jupyter.widget-view+json": {
       "model_id": "0823156f8edd480899571523ba59d4d3",
       "version_major": 2,
       "version_minor": 0
      },
      "text/plain": [
       "  0%|          | 0/13110 [00:00<?, ?it/s]"
      ]
     },
     "metadata": {},
     "output_type": "display_data"
    }
   ],
   "source": [
    "data = []\n",
    "for i, row in tqdm(enumerate(dist_matrix), total=len(dist_matrix)):\n",
    "    indexes = np.argsort(row)\n",
    "    data += [{   \n",
    "        'anchor': files_names[i],\n",
    "        'closest': [files_names[j] for j in indexes[1:1001]],\n",
    "        'farthest': [files_names[j] for j in indexes[-1000:]]\n",
    "    }]"
   ]
  },
  {
   "cell_type": "code",
   "execution_count": 12,
   "metadata": {},
   "outputs": [],
   "source": [
    "with gzip.open(DATA_PATH / 'neighbors_test.gzip', 'wt') as fp:\n",
    "    json.dump(data, fp)"
   ]
  },
  {
   "cell_type": "code",
   "execution_count": null,
   "metadata": {},
   "outputs": [],
   "source": [
    "with gzip.open(DATA_PATH / 'neighbors.gzip', 'rt') as fp:\n",
    "    test = json.load(fp)"
   ]
  },
  {
   "cell_type": "code",
   "execution_count": 10,
   "metadata": {},
   "outputs": [],
   "source": [
    "file2idx = {file.stem:i for i, file in enumerate(rico_dataset.files)}"
   ]
  },
  {
   "cell_type": "code",
   "execution_count": null,
   "metadata": {},
   "outputs": [],
   "source": [
    "ntotal, pos_iou = 1000, []\n",
    "for i in tqdm(range(ntotal), total=ntotal):\n",
    "    for file in data[i]['closest']:\n",
    "        iou = compute_iou(rico_dataset[file2idx[data[i]['anchor']]], rico_dataset[file2idx[file]])\n",
    "        \n",
    "        if iou['iou'] > 0.50:\n",
    "            pos_iou.append(file)\n",
    "            break\n",
    "        \n",
    "    else:\n",
    "        print('Bodega')\n"
   ]
  },
  {
   "cell_type": "code",
   "execution_count": null,
   "metadata": {},
   "outputs": [],
   "source": [
    "ntotal, pos_ged = 1000, []\n",
    "for i in tqdm(range(ntotal), total=ntotal):\n",
    "    for file in data[i]['closest']:\n",
    "        ged = compute_edit_distance(rico_dataset[file2idx[data[i]['anchor']]]['graph'].to_undirected(),\n",
    "                                    rico_dataset[file2idx[file]]['graph'].to_undirected())\n",
    "        \n",
    "        \n",
    "        if ged['normalized_edit_distance'] < 0.35:\n",
    "            pos_ged.append(file)\n",
    "            break\n",
    "        \n",
    "    else:\n",
    "        print('Bodega')"
   ]
  },
  {
   "cell_type": "code",
   "execution_count": null,
   "metadata": {},
   "outputs": [],
   "source": [
    "sum(int(file_ged == file_iou) for file_ged, file_iou in zip(pos_ged, pos_iou)) / len(pos_iou)"
   ]
  },
  {
   "cell_type": "code",
   "execution_count": null,
   "metadata": {},
   "outputs": [],
   "source": [
    "ntotal, neg_iou = 1000, []\n",
    "for i in tqdm(range(ntotal), total=ntotal):\n",
    "    for file in data[i]['farthest']:\n",
    "        iou = compute_iou(rico_dataset[file2idx[data[i]['anchor']]], rico_dataset[file2idx[file]])\n",
    "        \n",
    "        if iou['iou'] < 0.32:\n",
    "            neg_iou.append(file)\n",
    "            break\n",
    "        \n",
    "    else:\n",
    "        print('Bodega')\n"
   ]
  },
  {
   "cell_type": "code",
   "execution_count": null,
   "metadata": {},
   "outputs": [],
   "source": [
    "sum(int(file_ged == file_iou) for file_ged, file_iou in zip(neg_ged, neg_iou)) / len(neg_iou)\n"
   ]
  },
  {
   "cell_type": "code",
   "execution_count": null,
   "metadata": {},
   "outputs": [],
   "source": []
  }
 ],
 "metadata": {
  "interpreter": {
   "hash": "3941a13f76f15d380b5504a9ca16c1ef7094c747992a47fe8db634dbee071c85"
  },
  "kernelspec": {
   "display_name": "Python 3.9.6 ('.venv': poetry)",
   "language": "python",
   "name": "python3"
  },
  "language_info": {
   "codemirror_mode": {
    "name": "ipython",
    "version": 3
   },
   "file_extension": ".py",
   "mimetype": "text/x-python",
   "name": "python",
   "nbconvert_exporter": "python",
   "pygments_lexer": "ipython3",
   "version": "3.9.12"
  },
  "orig_nbformat": 4
 },
 "nbformat": 4,
 "nbformat_minor": 2
}
