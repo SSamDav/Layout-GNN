{
 "cells": [
  {
   "cell_type": "code",
   "execution_count": 1,
   "metadata": {},
   "outputs": [],
   "source": [
    "from pathlib import Path\n",
    "\n",
    "from pytorch_lightning import Trainer\n",
    "from torch.utils.data import DataLoader\n",
    "from torch_geometric.nn import global_mean_pool\n",
    "from torchvision import transforms\n",
    "\n",
    "from layout_gnn.dataset.dataset import RICOTripletsDataset, DATA_PATH\n",
    "from layout_gnn.dataset import transformations\n",
    "from layout_gnn.model.model import LayoutGraphModel, CNNNeuralRasterizer\n",
    "from layout_gnn.model.lightning_module import EncoderDecoderWithTripletLoss\n",
    "from layout_gnn.utils import pyg_triplets_data_collate\n"
   ]
  },
  {
   "cell_type": "code",
   "execution_count": 2,
   "metadata": {},
   "outputs": [
    {
     "name": "stderr",
     "output_type": "stream",
     "text": [
      "/home/drz/Layout-GNN/.venv/lib/python3.9/site-packages/pytorch_lightning/loops/utilities.py:91: PossibleUserWarning: `max_epochs` was not set. Setting it to 1000 epochs. To train without an epoch limit, set `max_epochs=-1`.\n",
      "  rank_zero_warn(\n",
      "GPU available: False, used: False\n",
      "TPU available: False, using: 0 TPU cores\n",
      "IPU available: False, using: 0 IPUs\n",
      "HPU available: False, using: 0 HPUs\n"
     ]
    }
   ],
   "source": [
    "dataset = RICOTripletsDataset(triplets=DATA_PATH / \"pairs_0_10000.json\")\n",
    "label_mappings = {k: i for i, k in enumerate(dataset.label_color_map)}\n",
    "dataset.transform = transform=transforms.Compose([\n",
    "    transformations.process_data,\n",
    "    transformations.normalize_bboxes,\n",
    "    transformations.add_networkx,\n",
    "    transformations.RescaleImage(256, 256, allow_missing_image=True),\n",
    "    transformations.ConvertLabelsToIndexes(\n",
    "        node_label_mappings=label_mappings,\n",
    "        # edge_label_mappings={\"parent_of\": 0, \"child_of\": 1},\n",
    "    ),\n",
    "    transformations.convert_graph_to_pyg,\n",
    "])\n",
    "\n",
    "data_loader = DataLoader(dataset=dataset, batch_size=8, collate_fn=pyg_triplets_data_collate)\n",
    "encoder = LayoutGraphModel(\n",
    "    num_labels=len(label_mappings) + 1, \n",
    "    label_embedding_dim=32, \n",
    "    bbox_embedding_layer_dims=32, \n",
    "    gnn_hidden_channels=128, \n",
    "    gnn_num_layers=3,\n",
    "    readout=lambda x, inputs: global_mean_pool(x, batch=inputs.batch)\n",
    ")\n",
    "decoder = CNNNeuralRasterizer(\n",
    "    input_dim=128,\n",
    "    output_dim=3,\n",
    "    hidden_dim=4,\n",
    "    output_size=256,  \n",
    ")\n",
    "model = EncoderDecoderWithTripletLoss(encoder=encoder)\n",
    "trainer = Trainer(default_root_dir=DATA_PATH)"
   ]
  },
  {
   "cell_type": "code",
   "execution_count": 3,
   "metadata": {},
   "outputs": [
    {
     "name": "stderr",
     "output_type": "stream",
     "text": [
      "/home/drz/Layout-GNN/.venv/lib/python3.9/site-packages/pytorch_lightning/trainer/configuration_validator.py:133: UserWarning: You defined a `validation_step` but have no `val_dataloader`. Skipping val loop.\n",
      "  rank_zero_warn(\"You defined a `validation_step` but have no `val_dataloader`. Skipping val loop.\")\n",
      "Missing logger folder: /home/drz/Layout-GNN/data/lightning_logs\n",
      "\n",
      "  | Name         | Type                          | Params\n",
      "---------------------------------------------------------------\n",
      "0 | encoder      | LayoutGraphModel              | 42.3 K\n",
      "1 | triplet_loss | TripletMarginWithDistanceLoss | 0     \n",
      "---------------------------------------------------------------\n",
      "42.3 K    Trainable params\n",
      "0         Non-trainable params\n",
      "42.3 K    Total params\n",
      "0.169     Total estimated model params size (MB)\n",
      "/home/drz/Layout-GNN/.venv/lib/python3.9/site-packages/pytorch_lightning/trainer/connectors/data_connector.py:240: PossibleUserWarning: The dataloader, train_dataloader, does not have many workers which may be a bottleneck. Consider increasing the value of the `num_workers` argument` (try 12 which is the number of cpus on this machine) in the `DataLoader` init to improve performance.\n",
      "  rank_zero_warn(\n"
     ]
    },
    {
     "data": {
      "application/vnd.jupyter.widget-view+json": {
       "model_id": "17d507b41e0f46ccaee37f82b9304f8a",
       "version_major": 2,
       "version_minor": 0
      },
      "text/plain": [
       "Training: 0it [00:00, ?it/s]"
      ]
     },
     "metadata": {},
     "output_type": "display_data"
    },
    {
     "name": "stderr",
     "output_type": "stream",
     "text": [
      "/home/drz/Layout-GNN/.venv/lib/python3.9/site-packages/pytorch_lightning/utilities/data.py:72: UserWarning: Trying to infer the `batch_size` from an ambiguous collection. The batch size we found is 2. To avoid any miscalculations, use `self.log(..., batch_size=batch_size)`.\n",
      "  warning_cache.warn(\n"
     ]
    }
   ],
   "source": [
    "trainer.fit(model, data_loader)"
   ]
  }
 ],
 "metadata": {
  "interpreter": {
   "hash": "894a72514130bffa9b1099e4d189ae64885a57d609b585fd502a21211d321c42"
  },
  "kernelspec": {
   "display_name": "Python 3.9.5 ('.venv': poetry)",
   "language": "python",
   "name": "python3"
  },
  "language_info": {
   "codemirror_mode": {
    "name": "ipython",
    "version": 3
   },
   "file_extension": ".py",
   "mimetype": "text/x-python",
   "name": "python",
   "nbconvert_exporter": "python",
   "pygments_lexer": "ipython3",
   "version": "3.9.5"
  },
  "orig_nbformat": 4
 },
 "nbformat": 4,
 "nbformat_minor": 2
}
